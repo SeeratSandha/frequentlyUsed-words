{
  "nbformat": 4,
  "nbformat_minor": 0,
  "metadata": {
    "colab": {
      "provenance": [],
      "include_colab_link": true
    },
    "kernelspec": {
      "name": "python3",
      "display_name": "Python 3"
    },
    "language_info": {
      "name": "python"
    }
  },
  "cells": [
    {
      "cell_type": "markdown",
      "metadata": {
        "id": "view-in-github",
        "colab_type": "text"
      },
      "source": [
        "<a href=\"https://colab.research.google.com/github/SeeratSandha/frequentlyUsed-words/blob/main/Hamlet's%20Top%2010%20Words.ipynb\" target=\"_parent\"><img src=\"https://colab.research.google.com/assets/colab-badge.svg\" alt=\"Open In Colab\"/></a>"
      ]
    },
    {
      "cell_type": "code",
      "source": [
        "\n",
        "# Finding the 10 most frequently used words in Hamlet .\n",
        "\n",
        "from google.colab import drive\n",
        "drive.mount('/content/drive')\n",
        "import os\n",
        "os.chdir(\"/content/drive/My Drive/\")  # Change to the directory we put CROSSWD.TXT in\n",
        "os.listdir()  # And then we can get the contents of that directory\n",
        "f = open(\"Copy of hamlet.txt\", \"r\")  # r is for read, w for write\n",
        "f.readline()\n",
        "f.close()\n",
        "f = open(\"Copy of hamlet.txt\", \"r\")\n",
        "words = f.read()\n",
        "words = words.lower()\n",
        "punc = '''!()-[]{};:'\"\\,<>./?@#$%^&*_~'''\n",
        "\n",
        "for element in words:\n",
        "    if element in punc:\n",
        "        words = words.replace(element, \"\")\n",
        "\n",
        "words= words.split()\n",
        "\n",
        "frequency ={}\n",
        "for item in words:\n",
        "  if item in frequency:\n",
        "      frequency[item] += 1\n",
        "  else:\n",
        "      frequency[item] = 1\n",
        "listing = sorted(frequency, key=frequency.get, reverse=True)[:10]\n",
        "print(\"\\nThe 10 most frequently used words in a Hamlet are : \")\n",
        "print(\", \".join(listing))\n"
      ],
      "metadata": {
        "colab": {
          "base_uri": "https://localhost:8080/"
        },
        "id": "A759JLQr4nVq",
        "outputId": "b7d17064-053c-484b-a6e6-3116b5b3fc44"
      },
      "execution_count": null,
      "outputs": [
        {
          "output_type": "stream",
          "name": "stdout",
          "text": [
            "Drive already mounted at /content/drive; to attempt to forcibly remount, call drive.mount(\"/content/drive\", force_remount=True).\n",
            "\n",
            "The 10 most frequently used words in a Hamlet are : \n",
            "the, and, to, of, i, a, you, my, in, it\n"
          ]
        }
      ]
    },
    {
      "cell_type": "code",
      "source": [
        "corrupt_words = ['corruption', 'rot', 'stink', 'bribe','bribery','crime','exploitation', 'extortion','evil','sin','fraud','graft','malfeasance','nepotism',\n",
        "'crookdness','demoralization','jobbery','misrepresentation','payoff','payola','rocket','shadiness','shuffle','skimming','squeeze','venality',\n",
        "'breach of trust','bribing','fidding','fradulency','on the take','profiteering','shady deal','venal','snide','faithless','dishonesty','deceit',\n",
        "'deception','duplicity','doubledealing','wrongdoing','criminality','graft','jobbery','sleaze','palmgreasing','impurity']\n",
        "\n",
        "for s in corrupt_words:\n",
        "  count = words.count(s)\n",
        "  print(s ,\"---\" ,count)"
      ],
      "metadata": {
        "colab": {
          "base_uri": "https://localhost:8080/"
        },
        "id": "BODUkHhyAiVI",
        "outputId": "da958fec-092b-417c-b742-47239115d62e"
      },
      "execution_count": null,
      "outputs": [
        {
          "output_type": "stream",
          "name": "stdout",
          "text": [
            "corruption --- 3\n",
            "rot --- 1\n",
            "stink --- 0\n",
            "bribe --- 0\n",
            "bribery --- 0\n",
            "crime --- 0\n",
            "exploitation --- 0\n",
            "extortion --- 0\n",
            "evil --- 3\n",
            "sin --- 2\n",
            "fraud --- 0\n",
            "graft --- 0\n",
            "malfeasance --- 0\n",
            "nepotism --- 0\n",
            "crookdness --- 0\n",
            "demoralization --- 0\n",
            "jobbery --- 0\n",
            "misrepresentation --- 0\n",
            "payoff --- 0\n",
            "payola --- 0\n",
            "rocket --- 0\n",
            "shadiness --- 0\n",
            "shuffle --- 0\n",
            "skimming --- 0\n",
            "squeeze --- 0\n",
            "venality --- 0\n",
            "breach of trust --- 0\n",
            "bribing --- 0\n",
            "fidding --- 0\n",
            "fradulency --- 0\n",
            "on the take --- 0\n",
            "profiteering --- 0\n",
            "shady deal --- 0\n",
            "venal --- 0\n",
            "snide --- 0\n",
            "faithless --- 0\n",
            "dishonesty --- 0\n",
            "deceit --- 0\n",
            "deception --- 0\n",
            "duplicity --- 0\n",
            "doubledealing --- 0\n",
            "wrongdoing --- 0\n",
            "criminality --- 0\n",
            "graft --- 0\n",
            "jobbery --- 0\n",
            "sleaze --- 0\n",
            "palmgreasing --- 0\n",
            "impurity --- 0\n"
          ]
        }
      ]
    }
  ]
}